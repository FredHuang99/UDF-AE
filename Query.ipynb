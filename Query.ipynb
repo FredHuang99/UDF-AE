{
 "cells": [
  {
   "cell_type": "code",
   "execution_count": 1,
   "metadata": {},
   "outputs": [],
   "source": [
    "import torch\n",
    "import torch.nn as nn\n",
    "from torch.autograd import Variable\n",
    "import torch.optim as optim\n",
    "import torch.nn.functional as F\n",
    "import h5py\n",
    "import numpy as np"
   ]
  },
  {
   "cell_type": "code",
   "execution_count": 3,
   "metadata": {},
   "outputs": [
    {
     "name": "stdout",
     "output_type": "stream",
     "text": [
      "(0,)\n",
      "(260341760,)\n",
      "(7945, 32, 32, 32)\n"
     ]
    }
   ],
   "source": [
    "f = h5py.File('kitchen.hdf5','r')\n",
    "data = np.array(f['data_mat'])\n",
    "#switch the signed distance field data into unsigned distance field data \n",
    "data[data<0] = -data[data<0]\n",
    "#present the shape of the experimental data\n",
    "print(data[data<0].shape)\n",
    "print(data[data>=0].shape)\n",
    "print(data.shape)"
   ]
  },
  {
   "cell_type": "code",
   "execution_count": null,
   "metadata": {},
   "outputs": [],
   "source": [
    "#load the trained model first"
   ]
  },
  {
   "cell_type": "code",
   "execution_count": 4,
   "metadata": {},
   "outputs": [],
   "source": [
    "device = torch.device('cuda:0' if torch.cuda.is_available() else 'cpu')"
   ]
  },
  {
   "cell_type": "code",
   "execution_count": 5,
   "metadata": {},
   "outputs": [],
   "source": [
    "class SAE(nn.Module):\n",
    "    def __init__(self):\n",
    "        super(SAE,self).__init__()\n",
    "        self.conv1 = nn.Conv3d(in_channels=1,out_channels=8,kernel_size=2,stride=2,padding=0,bias=False)\n",
    "        self.conv2 = nn.Conv3d(in_channels=8,out_channels=32,kernel_size=2,stride=2,padding=0,bias=False)\n",
    "        self.conv3 = nn.Conv3d(in_channels=32,out_channels=64,kernel_size=2,stride=2,padding=0,bias=False)\n",
    "        self.conv4 = nn.ConvTranspose3d(in_channels=64,out_channels=32,kernel_size=2,stride=2,padding=0,bias=True)\n",
    "        self.conv5 = nn.ConvTranspose3d(in_channels=32,out_channels=8,kernel_size=2,stride=2,padding=0,bias=True)\n",
    "        self.conv6 = nn.ConvTranspose3d(in_channels=8,out_channels=1,kernel_size=2,stride=2,padding=0,bias=True)\n",
    "    def forward(self,x):\n",
    "        x1 = F.relu(self.conv1(x))\n",
    "        x1 = F.relu(self.conv2(x1))\n",
    "        x1 = F.relu(self.conv3(x1))\n",
    "        x2 = F.relu(self.conv4(x1))\n",
    "        x2 = F.relu(self.conv5(x2))\n",
    "        x2 = F.relu(self.conv6(x2))\n",
    "        return x1,x2"
   ]
  },
  {
   "cell_type": "code",
   "execution_count": 6,
   "metadata": {},
   "outputs": [],
   "source": [
    "torch.cuda.empty_cache()"
   ]
  },
  {
   "cell_type": "code",
   "execution_count": 7,
   "metadata": {},
   "outputs": [
    {
     "data": {
      "text/plain": [
       "<All keys matched successfully>"
      ]
     },
     "execution_count": 7,
     "metadata": {},
     "output_type": "execute_result"
    }
   ],
   "source": [
    "net = SAE().to(device)\n",
    "net.load_state_dict(torch.load('UDF-AE.pkl'), strict = False)"
   ]
  },
  {
   "cell_type": "code",
   "execution_count": 16,
   "metadata": {},
   "outputs": [],
   "source": [
    "#set the serial number of the baseline streamline\n",
    "k = 50\n",
    "o = np.array(data[k])\n",
    "io = torch.Tensor(o).to(device).view(1,1,32,32,32)\n",
    "mo1,mo2 = net(io)\n",
    "co = np.array(mo1.data.cpu()).flatten()\n",
    "co1 = np.array(mo2.data.cpu()).flatten()"
   ]
  },
  {
   "cell_type": "code",
   "execution_count": 17,
   "metadata": {},
   "outputs": [],
   "source": [
    "dic = {}"
   ]
  },
  {
   "cell_type": "code",
   "execution_count": 18,
   "metadata": {},
   "outputs": [],
   "source": [
    "#calculate the Euclidean distance between the remaining streamlines and the baseline streamline in the encoded latent space\n",
    "for i in range(len(data)):\n",
    "    m_input = torch.Tensor(np.array(data[i])).to(device).view(1,1,32,32,32)\n",
    "    i_m,i_out = net(m_input)\n",
    "    i_c = np.array(i_m.data.cpu()).flatten()\n",
    "    ans = np.sum((co-i_c)**2)/16**2\n",
    "    dic[i] = ans"
   ]
  },
  {
   "cell_type": "code",
   "execution_count": 19,
   "metadata": {},
   "outputs": [],
   "source": [
    "lis = sorted(dic.items(),key = lambda x:x[1])"
   ]
  },
  {
   "cell_type": "code",
   "execution_count": 20,
   "metadata": {
    "scrolled": false
   },
   "outputs": [
    {
     "name": "stdout",
     "output_type": "stream",
     "text": [
      "[(50, 0.0), (51, 1670.8907470703125), (59, 3838.50390625), (48, 5201.2177734375), (39, 7379.06982421875), (58, 7635.2734375), (38, 9409.0126953125), (57, 20851.50390625), (320, 25147.8671875), (47, 27416.0)]\n"
     ]
    }
   ],
   "source": [
    "#print the serial numbers of the top 10 streamlines that are similar to the baseline streamline\n",
    "print(lis[0:10])"
   ]
  },
  {
   "cell_type": "code",
   "execution_count": 21,
   "metadata": {},
   "outputs": [
    {
     "name": "stdout",
     "output_type": "stream",
     "text": [
      "[50, 51, 59, 48, 39, 58, 38, 57, 320, 47]\n"
     ]
    }
   ],
   "source": [
    "out_list = []\n",
    "for i in range(10):\n",
    "    out_list.append(lis[i][0])\n",
    "print(out_list)"
   ]
  },
  {
   "cell_type": "code",
   "execution_count": 13,
   "metadata": {},
   "outputs": [],
   "source": [
    "#stored the serial numbers\n",
    "out_data = np.zeros(7945)\n",
    "for i in range(len(out_data)):\n",
    "    if i in out_list:\n",
    "        out_data[i] = 1\n",
    "np.save('kitchen_query_10.npy',out_data)"
   ]
  },
  {
   "cell_type": "code",
   "execution_count": 16,
   "metadata": {},
   "outputs": [],
   "source": [
    "#stored the serial number of the baseline streamline\n",
    "out_data_1 = np.zeros(7945)\n",
    "out_data[50] = 1\n",
    "np.save('kitchen_query_1.npy',out_data_1)"
   ]
  }
 ],
 "metadata": {
  "kernelspec": {
   "display_name": "Python 3",
   "language": "python",
   "name": "python3"
  },
  "language_info": {
   "codemirror_mode": {
    "name": "ipython",
    "version": 3
   },
   "file_extension": ".py",
   "mimetype": "text/x-python",
   "name": "python",
   "nbconvert_exporter": "python",
   "pygments_lexer": "ipython3",
   "version": "3.7.4"
  }
 },
 "nbformat": 4,
 "nbformat_minor": 2
}
